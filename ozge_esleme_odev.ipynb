{
 "cells": [
  {
   "cell_type": "code",
   "execution_count": null,
   "id": "faf23e6a",
   "metadata": {},
   "outputs": [],
   "source": [
    "lst = []\n",
    "\n",
    "n = int(input(\"Kisi sayisini girin : \"))\n",
    "\n",
    "for i in range(0, n):\n",
    "    ele = str(input())\n",
    "    lst.append(ele)  \n",
    " \n",
    "    print(lst)"
   ]
  },
  {
   "cell_type": "code",
   "execution_count": null,
   "id": "6c41473c",
   "metadata": {},
   "outputs": [],
   "source": [
    "import random\n",
    "def enter_list(liste):\n",
    "    while liste:\n",
    "        ikili = random.sample(liste,2)\n",
    "        print(ikili)\n",
    "    \n",
    "        for item in ikili:\n",
    "            liste.remove(item)\n",
    "        if len(liste) % 2 == 1:\n",
    "            liste.append(\"   \")"
   ]
  },
  {
   "cell_type": "code",
   "execution_count": null,
   "id": "47586157",
   "metadata": {},
   "outputs": [],
   "source": [
    "enter_list(lst)"
   ]
  }
 ],
 "metadata": {
  "kernelspec": {
   "display_name": "Python 3 (ipykernel)",
   "language": "python",
   "name": "python3"
  },
  "language_info": {
   "codemirror_mode": {
    "name": "ipython",
    "version": 3
   },
   "file_extension": ".py",
   "mimetype": "text/x-python",
   "name": "python",
   "nbconvert_exporter": "python",
   "pygments_lexer": "ipython3",
   "version": "3.11.5"
  }
 },
 "nbformat": 4,
 "nbformat_minor": 5
}
